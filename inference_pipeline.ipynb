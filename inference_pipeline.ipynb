{
 "cells": [
  {
   "cell_type": "code",
   "execution_count": null,
   "metadata": {},
   "outputs": [],
   "source": [
    "from transformers import pipeline\n",
    "import gradio as gr\n",
    "from pytube import YouTube\n",
    "\n",
    "transcription_pipe = pipeline(model=\"explorall/whisper-small-sv-dropout-6mb\")  \n",
    "translation_pipe = pipeline(model=\"Helsinki-NLP/opus-mt-sv-en\")\n",
    "\n",
    "def transcribe_and_translate(audio):\n",
    "    transcription = transcription_pipe(audio)[\"text\"]\n",
    "    translation = translation_pipe(transcription)[0]['translation_text']\n",
    "    \n",
    "    return transcription, translation\n",
    "\n",
    "def transcribe_and_translate_yt(link):\n",
    "    yt = YouTube(link)\n",
    "    audio = yt.streams.filter(only_audio=True).first().download()\n",
    "\n",
    "    return transcribe_and_translate(audio)\n",
    "    \n",
    "with gr.Blocks() as demo:\n",
    "    with gr.Tab(\"Real-time Swedish to English Transcription and Translation\"):\n",
    "        audio = gr.Audio(source=\"microphone\", type=\"filepath\")\n",
    "        rt_outputs = [gr.Textbox(), gr.Textbox()]\n",
    "        rt_button = gr.Button('Transcribe and Translate')\n",
    "\n",
    "    with gr.Tab(\"Youtube Video Transcription and Translation\"):\n",
    "        link = gr.Textbox(label=\"Enter YouTube Video Link\")\n",
    "        yt_outputs = [gr.Textbox(), gr.Textbox()]\n",
    "        yt_button = gr.Button('Transcribe and Translate YouTube Video')\n",
    "\n",
    "    rt_button.click(transcribe_and_translate, inputs=audio, outputs=rt_outputs)\n",
    "    yt_button.click(transcribe_and_translate_yt, inputs=link, outputs=yt_outputs)\n",
    "        \n",
    "demo.launch(debug=True)"
   ]
  }
 ],
 "metadata": {
  "language_info": {
   "name": "python"
  }
 },
 "nbformat": 4,
 "nbformat_minor": 2
}
