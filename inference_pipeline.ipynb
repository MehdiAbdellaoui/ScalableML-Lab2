{
 "cells": [
  {
   "cell_type": "code",
   "execution_count": null,
   "metadata": {},
   "outputs": [],
   "source": [
    "from transformers import pipeline\n",
    "import gradio as gr\n",
    "\n",
    "transcribe = pipeline(model=\"Scalable-ML/whisper-small-sv\")\n",
    "translate = pipeline(model=\"Scalable-ML/t5-small\")\n",
    "\n",
    "def transcribe_and_translate(audio):\n",
    "    text = transcribe(audio)[\"text\"]\n",
    "    translation = translate(text)\n",
    "    return text, translation\n",
    "\n",
    "iface = gr.Interface(\n",
    "    fn=transcribe_and_translate,\n",
    "    inputs=gr.Audio(source=\"microphone\", type=\"filepath\"),\n",
    "    outputs=\"text\",\n",
    "    title=\"Whisper Small Swedish\",\n",
    "    description=\"Realtime demo for Swedish speech recognition using a fine-tuned Whisper small model.\",\n",
    ")\n",
    "\n",
    "iface.launch()"
   ]
  }
 ],
 "metadata": {
  "language_info": {
   "name": "python"
  }
 },
 "nbformat": 4,
 "nbformat_minor": 2
}
